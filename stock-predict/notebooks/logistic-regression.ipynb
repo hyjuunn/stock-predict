{
 "cells": [
  {
   "cell_type": "markdown",
   "metadata": {
    "id": "ZI_O871jYg3r"
   },
   "source": [
    "Multiple Linear Regression on Stock Price Data (is far from market prediction as its using current day's open, high, low, and volume)"
   ]
  },
  {
   "cell_type": "markdown",
   "metadata": {
    "id": "Aue53phCZNjd"
   },
   "source": [
    "Import libraries"
   ]
  },
  {
   "cell_type": "code",
   "execution_count": 56,
   "metadata": {
    "executionInfo": {
     "elapsed": 5312,
     "status": "ok",
     "timestamp": 1743774128005,
     "user": {
      "displayName": "김현준",
      "userId": "09843962746864973520"
     },
     "user_tz": -540
    },
    "id": "7jiMStswYSHN"
   },
   "outputs": [],
   "source": [
    "import numpy as np\n",
    "import matplotlib.pyplot as plt\n",
    "import pandas as pd\n",
    "import yfinance as yf\n",
    "import ta as ta\n",
    "from sklearn.model_selection import train_test_split\n",
    "from sklearn.linear_model import LinearRegression\n",
    "from sklearn.preprocessing import StandardScaler\n",
    "from sklearn.metrics import accuracy_score"
   ]
  },
  {
   "cell_type": "markdown",
   "metadata": {
    "id": "a0N6MpjFZSQZ"
   },
   "source": [
    "Import dataset"
   ]
  },
  {
   "cell_type": "code",
   "execution_count": 42,
   "metadata": {
    "colab": {
     "base_uri": "https://localhost:8080/"
    },
    "executionInfo": {
     "elapsed": 998,
     "status": "ok",
     "timestamp": 1743774129005,
     "user": {
      "displayName": "김현준",
      "userId": "09843962746864973520"
     },
     "user_tz": -540
    },
    "id": "Qf4lNnCyZVLB",
    "outputId": "7ffd2de2-2069-4b2e-98aa-7af69fb76507"
   },
   "outputs": [
    {
     "name": "stderr",
     "output_type": "stream",
     "text": [
      "\r",
      "[*********************100%***********************]  1 of 1 completed"
     ]
    },
    {
     "name": "stdout",
     "output_type": "stream",
     "text": [
      "Price      Close    High    Low  Open    Volume   MA_5    MA_20    Return  \\\n",
      "Ticker      RGTI    RGTI   RGTI  RGTI      RGTI                             \n",
      "Date                                                                        \n",
      "2021-05-19  9.80   9.850  9.800  9.85      1200  9.810  9.87900  0.000000   \n",
      "2021-05-20  9.78   9.850  9.780  9.85      1600  9.796  9.87300 -0.002041   \n",
      "2021-05-21  9.80  10.040  9.790  9.95      9500  9.796  9.86750  0.002045   \n",
      "2021-05-24  9.80   9.800  9.800  9.80         0  9.796  9.86200  0.000000   \n",
      "2021-05-25  9.80  10.040  9.770  9.81      4600  9.796  9.85650  0.000000   \n",
      "...          ...     ...    ...   ...       ...    ...      ...       ...   \n",
      "2025-03-25  9.82  10.020  9.470  9.56  36323100  9.513  9.06175  0.004090   \n",
      "2025-03-26  9.18  10.310  9.090  9.89  41834000  9.368  9.05675 -0.065173   \n",
      "2025-03-27  8.47   9.190  8.410  9.02  28869400  9.264  9.07875 -0.077342   \n",
      "2025-03-28  8.15   8.419  7.782  8.40  28049000  9.080  9.06325 -0.037780   \n",
      "2025-03-31  7.92   8.295  7.680  7.77  34826600  8.708  9.07425 -0.028221   \n",
      "\n",
      "Price      Volatility Target  \n",
      "Ticker                        \n",
      "Date                          \n",
      "2021-05-19   0.005076  False  \n",
      "2021-05-20   0.007107   True  \n",
      "2021-05-21   0.025126   True  \n",
      "2021-05-24   0.000000   True  \n",
      "2021-05-25   0.027523  False  \n",
      "...               ...    ...  \n",
      "2025-03-25   0.057531  False  \n",
      "2025-03-26   0.123357  False  \n",
      "2025-03-27   0.086474  False  \n",
      "2025-03-28   0.075833  False  \n",
      "2025-03-31   0.079151  False  \n",
      "\n",
      "[971 rows x 10 columns]\n"
     ]
    },
    {
     "name": "stderr",
     "output_type": "stream",
     "text": [
      "\n"
     ]
    }
   ],
   "source": [
    "stock_data = yf.download(\"RGTI\", start=\"2020-01-01\", end=\"2025-04-01\")\n",
    "\n",
    "stock_data[\"MA_5\"] = stock_data[\"Close\"].rolling(window=5).mean()\n",
    "stock_data[\"MA_20\"] = stock_data[\"Close\"].rolling(window=20).mean()\n",
    "stock_data[\"Return\"] = stock_data[\"Close\"].pct_change() \n",
    "stock_data[\"Volatility\"] = (stock_data[\"High\"] - stock_data[\"Low\"]) / stock_data[\"Open\"]\n",
    "stock_data[\"Target\"] = (stock_data[\"Return\"].shift(-1) >= 0)\n",
    "\n",
    "#due to rolling window the first few are NaN\n",
    "stock_data = stock_data.dropna()\n",
    "print(stock_data)"
   ]
  },
  {
   "cell_type": "markdown",
   "metadata": {
    "id": "i__gor2hbMJW"
   },
   "source": [
    "Define Features and Target"
   ]
  },
  {
   "cell_type": "code",
   "execution_count": 65,
   "metadata": {
    "executionInfo": {
     "elapsed": 8,
     "status": "ok",
     "timestamp": 1743774129024,
     "user": {
      "displayName": "김현준",
      "userId": "09843962746864973520"
     },
     "user_tz": -540
    },
    "id": "6GDzOHW_aN_t"
   },
   "outputs": [],
   "source": [
    "X = stock_data[[\"Open\", \"Close\", \"High\", \"Low\", \"Return\", \"Volatility\"]].values\n",
    "y = stock_data[\"Target\"].values"
   ]
  },
  {
   "cell_type": "markdown",
   "metadata": {
    "id": "HsKKPUBIbsvT"
   },
   "source": [
    "Split into Training and Testing sets"
   ]
  },
  {
   "cell_type": "code",
   "execution_count": 66,
   "metadata": {
    "executionInfo": {
     "elapsed": 17,
     "status": "ok",
     "timestamp": 1743774129045,
     "user": {
      "displayName": "김현준",
      "userId": "09843962746864973520"
     },
     "user_tz": -540
    },
    "id": "em8uvnC5bwRj"
   },
   "outputs": [],
   "source": [
    "X_train, X_test, y_train, y_test = train_test_split(X, y, test_size = 0.2, random_state = 0)"
   ]
  },
  {
   "cell_type": "markdown",
   "metadata": {
    "id": "-MP2tdE-cJbE"
   },
   "source": [
    "Scale the data (Optional)"
   ]
  },
  {
   "cell_type": "code",
   "execution_count": 67,
   "metadata": {
    "executionInfo": {
     "elapsed": 13,
     "status": "ok",
     "timestamp": 1743774129059,
     "user": {
      "displayName": "김현준",
      "userId": "09843962746864973520"
     },
     "user_tz": -540
    },
    "id": "etsxr6yFcLip"
   },
   "outputs": [],
   "source": [
    "sc = StandardScaler()\n",
    "X_train = sc.fit_transform(X_train)\n",
    "X_test = sc.transform(X_test)"
   ]
  },
  {
   "cell_type": "markdown",
   "metadata": {
    "id": "yN5oNflccwaY"
   },
   "source": [
    "Train the model"
   ]
  },
  {
   "cell_type": "code",
   "execution_count": 68,
   "metadata": {
    "colab": {
     "base_uri": "https://localhost:8080/",
     "height": 80
    },
    "executionInfo": {
     "elapsed": 184,
     "status": "ok",
     "timestamp": 1743774129248,
     "user": {
      "displayName": "김현준",
      "userId": "09843962746864973520"
     },
     "user_tz": -540
    },
    "id": "QM7K_DPZcyMr",
    "outputId": "c039f4a5-eca7-424e-c30f-69421e1a4ef5"
   },
   "outputs": [
    {
     "data": {
      "text/html": [
       "<style>#sk-container-id-5 {color: black;background-color: white;}#sk-container-id-5 pre{padding: 0;}#sk-container-id-5 div.sk-toggleable {background-color: white;}#sk-container-id-5 label.sk-toggleable__label {cursor: pointer;display: block;width: 100%;margin-bottom: 0;padding: 0.3em;box-sizing: border-box;text-align: center;}#sk-container-id-5 label.sk-toggleable__label-arrow:before {content: \"▸\";float: left;margin-right: 0.25em;color: #696969;}#sk-container-id-5 label.sk-toggleable__label-arrow:hover:before {color: black;}#sk-container-id-5 div.sk-estimator:hover label.sk-toggleable__label-arrow:before {color: black;}#sk-container-id-5 div.sk-toggleable__content {max-height: 0;max-width: 0;overflow: hidden;text-align: left;background-color: #f0f8ff;}#sk-container-id-5 div.sk-toggleable__content pre {margin: 0.2em;color: black;border-radius: 0.25em;background-color: #f0f8ff;}#sk-container-id-5 input.sk-toggleable__control:checked~div.sk-toggleable__content {max-height: 200px;max-width: 100%;overflow: auto;}#sk-container-id-5 input.sk-toggleable__control:checked~label.sk-toggleable__label-arrow:before {content: \"▾\";}#sk-container-id-5 div.sk-estimator input.sk-toggleable__control:checked~label.sk-toggleable__label {background-color: #d4ebff;}#sk-container-id-5 div.sk-label input.sk-toggleable__control:checked~label.sk-toggleable__label {background-color: #d4ebff;}#sk-container-id-5 input.sk-hidden--visually {border: 0;clip: rect(1px 1px 1px 1px);clip: rect(1px, 1px, 1px, 1px);height: 1px;margin: -1px;overflow: hidden;padding: 0;position: absolute;width: 1px;}#sk-container-id-5 div.sk-estimator {font-family: monospace;background-color: #f0f8ff;border: 1px dotted black;border-radius: 0.25em;box-sizing: border-box;margin-bottom: 0.5em;}#sk-container-id-5 div.sk-estimator:hover {background-color: #d4ebff;}#sk-container-id-5 div.sk-parallel-item::after {content: \"\";width: 100%;border-bottom: 1px solid gray;flex-grow: 1;}#sk-container-id-5 div.sk-label:hover label.sk-toggleable__label {background-color: #d4ebff;}#sk-container-id-5 div.sk-serial::before {content: \"\";position: absolute;border-left: 1px solid gray;box-sizing: border-box;top: 0;bottom: 0;left: 50%;z-index: 0;}#sk-container-id-5 div.sk-serial {display: flex;flex-direction: column;align-items: center;background-color: white;padding-right: 0.2em;padding-left: 0.2em;position: relative;}#sk-container-id-5 div.sk-item {position: relative;z-index: 1;}#sk-container-id-5 div.sk-parallel {display: flex;align-items: stretch;justify-content: center;background-color: white;position: relative;}#sk-container-id-5 div.sk-item::before, #sk-container-id-5 div.sk-parallel-item::before {content: \"\";position: absolute;border-left: 1px solid gray;box-sizing: border-box;top: 0;bottom: 0;left: 50%;z-index: -1;}#sk-container-id-5 div.sk-parallel-item {display: flex;flex-direction: column;z-index: 1;position: relative;background-color: white;}#sk-container-id-5 div.sk-parallel-item:first-child::after {align-self: flex-end;width: 50%;}#sk-container-id-5 div.sk-parallel-item:last-child::after {align-self: flex-start;width: 50%;}#sk-container-id-5 div.sk-parallel-item:only-child::after {width: 0;}#sk-container-id-5 div.sk-dashed-wrapped {border: 1px dashed gray;margin: 0 0.4em 0.5em 0.4em;box-sizing: border-box;padding-bottom: 0.4em;background-color: white;}#sk-container-id-5 div.sk-label label {font-family: monospace;font-weight: bold;display: inline-block;line-height: 1.2em;}#sk-container-id-5 div.sk-label-container {text-align: center;}#sk-container-id-5 div.sk-container {/* jupyter's `normalize.less` sets `[hidden] { display: none; }` but bootstrap.min.css set `[hidden] { display: none !important; }` so we also need the `!important` here to be able to override the default hidden behavior on the sphinx rendered scikit-learn.org. See: https://github.com/scikit-learn/scikit-learn/issues/21755 */display: inline-block !important;position: relative;}#sk-container-id-5 div.sk-text-repr-fallback {display: none;}</style><div id=\"sk-container-id-5\" class=\"sk-top-container\"><div class=\"sk-text-repr-fallback\"><pre>LinearRegression()</pre><b>In a Jupyter environment, please rerun this cell to show the HTML representation or trust the notebook. <br />On GitHub, the HTML representation is unable to render, please try loading this page with nbviewer.org.</b></div><div class=\"sk-container\" hidden><div class=\"sk-item\"><div class=\"sk-estimator sk-toggleable\"><input class=\"sk-toggleable__control sk-hidden--visually\" id=\"sk-estimator-id-5\" type=\"checkbox\" checked><label for=\"sk-estimator-id-5\" class=\"sk-toggleable__label sk-toggleable__label-arrow\">LinearRegression</label><div class=\"sk-toggleable__content\"><pre>LinearRegression()</pre></div></div></div></div></div>"
      ],
      "text/plain": [
       "LinearRegression()"
      ]
     },
     "execution_count": 68,
     "metadata": {},
     "output_type": "execute_result"
    }
   ],
   "source": [
    "regressor = LinearRegression()\n",
    "regressor.fit(X_train, y_train)"
   ]
  },
  {
   "cell_type": "markdown",
   "metadata": {
    "id": "uSKINJXcc4Z0"
   },
   "source": [
    "Make predictions and Compare"
   ]
  },
  {
   "cell_type": "code",
   "execution_count": 69,
   "metadata": {
    "colab": {
     "base_uri": "https://localhost:8080/"
    },
    "executionInfo": {
     "elapsed": 37,
     "status": "ok",
     "timestamp": 1743774129286,
     "user": {
      "displayName": "김현준",
      "userId": "09843962746864973520"
     },
     "user_tz": -540
    },
    "id": "OtESm4zqc7nE",
    "outputId": "5fb560d1-3903-4ff2-fee4-4cfa85b7b339"
   },
   "outputs": [
    {
     "name": "stdout",
     "output_type": "stream",
     "text": [
      "Accuracy: 0.45\n",
      "[[ True False]\n",
      " [False False]\n",
      " [ True  True]\n",
      " [False False]\n",
      " [ True False]\n",
      " [False  True]\n",
      " [False  True]\n",
      " [ True False]\n",
      " [False  True]\n",
      " [ True False]\n",
      " [ True  True]\n",
      " [ True False]\n",
      " [False False]\n",
      " [ True False]\n",
      " [False  True]\n",
      " [False  True]\n",
      " [False False]\n",
      " [False  True]\n",
      " [False False]\n",
      " [False  True]\n",
      " [ True False]\n",
      " [False False]\n",
      " [False False]\n",
      " [False  True]\n",
      " [False  True]\n",
      " [False False]\n",
      " [False  True]\n",
      " [False  True]\n",
      " [False  True]\n",
      " [False  True]\n",
      " [False False]\n",
      " [False False]\n",
      " [False False]\n",
      " [False  True]\n",
      " [False  True]\n",
      " [False False]\n",
      " [False False]\n",
      " [False  True]\n",
      " [False False]\n",
      " [ True False]\n",
      " [False  True]\n",
      " [ True False]\n",
      " [ True  True]\n",
      " [False  True]\n",
      " [False False]\n",
      " [False False]\n",
      " [False False]\n",
      " [False False]\n",
      " [False  True]\n",
      " [False  True]\n",
      " [ True  True]\n",
      " [ True False]\n",
      " [False False]\n",
      " [False False]\n",
      " [ True  True]\n",
      " [False False]\n",
      " [ True False]\n",
      " [ True False]\n",
      " [False  True]\n",
      " [False  True]\n",
      " [False  True]\n",
      " [False  True]\n",
      " [ True False]\n",
      " [False False]\n",
      " [False False]\n",
      " [False False]\n",
      " [ True False]\n",
      " [False  True]\n",
      " [False False]\n",
      " [ True  True]\n",
      " [ True  True]\n",
      " [ True False]\n",
      " [False  True]\n",
      " [ True False]\n",
      " [False  True]\n",
      " [False  True]\n",
      " [False False]\n",
      " [False False]\n",
      " [False  True]\n",
      " [False  True]\n",
      " [ True  True]\n",
      " [False False]\n",
      " [False  True]\n",
      " [ True False]\n",
      " [ True  True]\n",
      " [ True False]\n",
      " [ True False]\n",
      " [False  True]\n",
      " [False  True]\n",
      " [False False]\n",
      " [False  True]\n",
      " [False  True]\n",
      " [False  True]\n",
      " [False  True]\n",
      " [False  True]\n",
      " [ True False]\n",
      " [False False]\n",
      " [False False]\n",
      " [False False]\n",
      " [False False]\n",
      " [ True  True]\n",
      " [False  True]\n",
      " [False  True]\n",
      " [False False]\n",
      " [ True  True]\n",
      " [False  True]\n",
      " [ True False]\n",
      " [False  True]\n",
      " [False False]\n",
      " [False False]\n",
      " [False False]\n",
      " [False  True]\n",
      " [False False]\n",
      " [False False]\n",
      " [False  True]\n",
      " [False False]\n",
      " [False  True]\n",
      " [ True False]\n",
      " [False False]\n",
      " [ True False]\n",
      " [ True False]\n",
      " [False  True]\n",
      " [False  True]\n",
      " [False False]\n",
      " [False False]\n",
      " [False False]\n",
      " [ True False]\n",
      " [ True  True]\n",
      " [ True  True]\n",
      " [False  True]\n",
      " [ True  True]\n",
      " [False False]\n",
      " [False  True]\n",
      " [False  True]\n",
      " [False False]\n",
      " [ True  True]\n",
      " [ True False]\n",
      " [False  True]\n",
      " [False  True]\n",
      " [False False]\n",
      " [False  True]\n",
      " [False  True]\n",
      " [False  True]\n",
      " [False  True]\n",
      " [ True  True]\n",
      " [False False]\n",
      " [False  True]\n",
      " [ True  True]\n",
      " [False  True]\n",
      " [False False]\n",
      " [False  True]\n",
      " [False  True]\n",
      " [ True  True]\n",
      " [False False]\n",
      " [False  True]\n",
      " [False  True]\n",
      " [False  True]\n",
      " [False False]\n",
      " [ True  True]\n",
      " [False False]\n",
      " [False False]\n",
      " [False  True]\n",
      " [ True  True]\n",
      " [False  True]\n",
      " [False  True]\n",
      " [ True False]\n",
      " [False False]\n",
      " [False  True]\n",
      " [False  True]\n",
      " [False False]\n",
      " [False False]\n",
      " [ True  True]\n",
      " [False  True]\n",
      " [False  True]\n",
      " [False False]\n",
      " [False  True]\n",
      " [ True  True]\n",
      " [False False]\n",
      " [ True  True]\n",
      " [False False]\n",
      " [ True  True]\n",
      " [ True False]\n",
      " [ True False]\n",
      " [ True False]\n",
      " [False  True]\n",
      " [False False]\n",
      " [ True False]\n",
      " [ True False]\n",
      " [False  True]\n",
      " [False  True]\n",
      " [False False]\n",
      " [ True  True]\n",
      " [False  True]\n",
      " [False  True]\n",
      " [ True  True]]\n"
     ]
    }
   ],
   "source": [
    "y_pred = (regressor.predict(X_test) > 0.5)\n",
    "np.set_printoptions(precision = 2)\n",
    "accuracy = accuracy_score(y_test, y_pred)\n",
    "print(f\"Accuracy: {accuracy:.2f}\")\n",
    "print(np.concatenate((y_pred.reshape(len(y_pred), 1), y_test.reshape(len(y_test), 1)), 1))"
   ]
  },
  {
   "cell_type": "code",
   "execution_count": null,
   "metadata": {},
   "outputs": [],
   "source": [
    "\n"
   ]
  },
  {
   "cell_type": "code",
   "execution_count": null,
   "metadata": {},
   "outputs": [],
   "source": []
  },
  {
   "cell_type": "code",
   "execution_count": null,
   "metadata": {},
   "outputs": [],
   "source": []
  }
 ],
 "metadata": {
  "colab": {
   "authorship_tag": "ABX9TyP/aBBtHc6E9gjm3bt9beOp",
   "provenance": []
  },
  "kernelspec": {
   "display_name": "Python 3 (ipykernel)",
   "language": "python",
   "name": "python3"
  },
  "language_info": {
   "codemirror_mode": {
    "name": "ipython",
    "version": 3
   },
   "file_extension": ".py",
   "mimetype": "text/x-python",
   "name": "python",
   "nbconvert_exporter": "python",
   "pygments_lexer": "ipython3",
   "version": "3.10.9"
  }
 },
 "nbformat": 4,
 "nbformat_minor": 1
}
