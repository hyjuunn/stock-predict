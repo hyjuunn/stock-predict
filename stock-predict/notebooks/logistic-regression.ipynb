{
 "cells": [
  {
   "cell_type": "markdown",
   "metadata": {
    "id": "ZI_O871jYg3r"
   },
   "source": [
    "Multiple Linear Regression on Stock Price Data (is far from market prediction as its using current day's open, high, low, and volume)"
   ]
  },
  {
   "cell_type": "markdown",
   "metadata": {
    "id": "Aue53phCZNjd"
   },
   "source": [
    "Import libraries"
   ]
  },
  {
   "cell_type": "code",
   "execution_count": 1,
   "metadata": {
    "executionInfo": {
     "elapsed": 5312,
     "status": "ok",
     "timestamp": 1743774128005,
     "user": {
      "displayName": "김현준",
      "userId": "09843962746864973520"
     },
     "user_tz": -540
    },
    "id": "7jiMStswYSHN"
   },
   "outputs": [],
   "source": [
    "import numpy as np\n",
    "import matplotlib.pyplot as plt\n",
    "import pandas as pd\n",
    "import yfinance as yf\n",
    "from sklearn.model_selection import train_test_split\n",
    "from sklearn.linear_model import LinearRegression\n",
    "from sklearn.preprocessing import StandardScaler"
   ]
  },
  {
   "cell_type": "markdown",
   "metadata": {
    "id": "a0N6MpjFZSQZ"
   },
   "source": [
    "Import dataset"
   ]
  },
  {
   "cell_type": "code",
   "execution_count": 2,
   "metadata": {
    "colab": {
     "base_uri": "https://localhost:8080/"
    },
    "executionInfo": {
     "elapsed": 998,
     "status": "ok",
     "timestamp": 1743774129005,
     "user": {
      "displayName": "김현준",
      "userId": "09843962746864973520"
     },
     "user_tz": -540
    },
    "id": "Qf4lNnCyZVLB",
    "outputId": "7ffd2de2-2069-4b2e-98aa-7af69fb76507"
   },
   "outputs": [
    {
     "name": "stdout",
     "output_type": "stream",
     "text": [
      "YF.download() has changed argument auto_adjust default to True\n"
     ]
    },
    {
     "name": "stderr",
     "output_type": "stream",
     "text": [
      "\r",
      "[*********************100%***********************]  1 of 1 completed"
     ]
    },
    {
     "name": "stdout",
     "output_type": "stream",
     "text": [
      "Price            Close        High         Low        Open     Volume  \\\n",
      "Ticker            AAPL        AAPL        AAPL        AAPL       AAPL   \n",
      "Date                                                                    \n",
      "2020-01-30   78.410370   78.463633   77.170796   77.604165  126743200   \n",
      "2020-01-31   74.933746   78.122258   74.638379   77.698575  199588400   \n",
      "2020-02-03   74.727966   75.897328   73.168813   73.672387  173788400   \n",
      "2020-02-04   77.194992   77.386257   75.931207   76.337940  136616400   \n",
      "2020-02-05   77.824471   78.625836   77.219209   78.325621  118826800   \n",
      "...                ...         ...         ...         ...        ...   \n",
      "2023-12-22  192.444595  194.243791  191.818350  194.015153   37122800   \n",
      "2023-12-26  191.897858  192.732841  191.679169  192.454513   28919300   \n",
      "2023-12-27  191.997284  192.345201  189.949580  191.341234   48087700   \n",
      "2023-12-28  192.424713  193.498269  192.017156  192.981369   34049900   \n",
      "2023-12-29  191.380951  193.239786  190.585722  192.742770   42628800   \n",
      "\n",
      "Price             MA_5       MA_20  \n",
      "Ticker                              \n",
      "Date                                \n",
      "2020-01-30   77.142216   75.545421  \n",
      "2020-01-31   76.716113   75.656305  \n",
      "2020-02-03   76.702077   75.792247  \n",
      "2020-02-04   76.758244   76.022851  \n",
      "2020-02-05   76.618309   76.301998  \n",
      "...                ...         ...  \n",
      "2023-12-22  194.023108  192.512679  \n",
      "2023-12-26  193.458496  192.674705  \n",
      "2023-12-27  192.705023  192.811385  \n",
      "2023-12-28  192.456516  193.020628  \n",
      "2023-12-29  192.029080  193.148858  \n",
      "\n",
      "[987 rows x 7 columns]\n"
     ]
    },
    {
     "name": "stderr",
     "output_type": "stream",
     "text": [
      "\n"
     ]
    }
   ],
   "source": [
    "stock_data = yf.download(\"AAPL\", start=\"2020-01-01\", end=\"2024-01-01\")\n",
    "#add moving average\n",
    "stock_data[\"MA_5\"] = stock_data[\"Close\"].rolling(window=5).mean()\n",
    "stock_data[\"MA_20\"] = stock_data[\"Close\"].rolling(window=20).mean()\n",
    "#due to rolling window the first few are NaN\n",
    "stock_data = stock_data.dropna()\n",
    "print(stock_data)"
   ]
  },
  {
   "cell_type": "markdown",
   "metadata": {
    "id": "i__gor2hbMJW"
   },
   "source": [
    "Define Features and Target"
   ]
  },
  {
   "cell_type": "code",
   "execution_count": 3,
   "metadata": {
    "executionInfo": {
     "elapsed": 8,
     "status": "ok",
     "timestamp": 1743774129024,
     "user": {
      "displayName": "김현준",
      "userId": "09843962746864973520"
     },
     "user_tz": -540
    },
    "id": "6GDzOHW_aN_t"
   },
   "outputs": [],
   "source": [
    "X = stock_data[[\"Open\", \"High\", \"Low\", \"Volume\", \"MA_5\", \"MA_20\"]].values\n",
    "y = stock_data[\"Close\"].values"
   ]
  },
  {
   "cell_type": "markdown",
   "metadata": {
    "id": "HsKKPUBIbsvT"
   },
   "source": [
    "Split into Training and Testing sets"
   ]
  },
  {
   "cell_type": "code",
   "execution_count": 4,
   "metadata": {
    "executionInfo": {
     "elapsed": 17,
     "status": "ok",
     "timestamp": 1743774129045,
     "user": {
      "displayName": "김현준",
      "userId": "09843962746864973520"
     },
     "user_tz": -540
    },
    "id": "em8uvnC5bwRj"
   },
   "outputs": [],
   "source": [
    "X_train, X_test, y_train, y_test = train_test_split(X, y, test_size = 0.2, random_state = 0)"
   ]
  },
  {
   "cell_type": "markdown",
   "metadata": {
    "id": "-MP2tdE-cJbE"
   },
   "source": [
    "Scale the data (Optional)"
   ]
  },
  {
   "cell_type": "code",
   "execution_count": 5,
   "metadata": {
    "executionInfo": {
     "elapsed": 13,
     "status": "ok",
     "timestamp": 1743774129059,
     "user": {
      "displayName": "김현준",
      "userId": "09843962746864973520"
     },
     "user_tz": -540
    },
    "id": "etsxr6yFcLip"
   },
   "outputs": [],
   "source": [
    "sc = StandardScaler()\n",
    "X_train = sc.fit_transform(X_train)\n",
    "X_test = sc.transform(X_test)"
   ]
  },
  {
   "cell_type": "markdown",
   "metadata": {
    "id": "yN5oNflccwaY"
   },
   "source": [
    "Train the model"
   ]
  },
  {
   "cell_type": "code",
   "execution_count": 6,
   "metadata": {
    "colab": {
     "base_uri": "https://localhost:8080/",
     "height": 80
    },
    "executionInfo": {
     "elapsed": 184,
     "status": "ok",
     "timestamp": 1743774129248,
     "user": {
      "displayName": "김현준",
      "userId": "09843962746864973520"
     },
     "user_tz": -540
    },
    "id": "QM7K_DPZcyMr",
    "outputId": "c039f4a5-eca7-424e-c30f-69421e1a4ef5"
   },
   "outputs": [
    {
     "data": {
      "text/html": [
       "<style>#sk-container-id-1 {color: black;background-color: white;}#sk-container-id-1 pre{padding: 0;}#sk-container-id-1 div.sk-toggleable {background-color: white;}#sk-container-id-1 label.sk-toggleable__label {cursor: pointer;display: block;width: 100%;margin-bottom: 0;padding: 0.3em;box-sizing: border-box;text-align: center;}#sk-container-id-1 label.sk-toggleable__label-arrow:before {content: \"▸\";float: left;margin-right: 0.25em;color: #696969;}#sk-container-id-1 label.sk-toggleable__label-arrow:hover:before {color: black;}#sk-container-id-1 div.sk-estimator:hover label.sk-toggleable__label-arrow:before {color: black;}#sk-container-id-1 div.sk-toggleable__content {max-height: 0;max-width: 0;overflow: hidden;text-align: left;background-color: #f0f8ff;}#sk-container-id-1 div.sk-toggleable__content pre {margin: 0.2em;color: black;border-radius: 0.25em;background-color: #f0f8ff;}#sk-container-id-1 input.sk-toggleable__control:checked~div.sk-toggleable__content {max-height: 200px;max-width: 100%;overflow: auto;}#sk-container-id-1 input.sk-toggleable__control:checked~label.sk-toggleable__label-arrow:before {content: \"▾\";}#sk-container-id-1 div.sk-estimator input.sk-toggleable__control:checked~label.sk-toggleable__label {background-color: #d4ebff;}#sk-container-id-1 div.sk-label input.sk-toggleable__control:checked~label.sk-toggleable__label {background-color: #d4ebff;}#sk-container-id-1 input.sk-hidden--visually {border: 0;clip: rect(1px 1px 1px 1px);clip: rect(1px, 1px, 1px, 1px);height: 1px;margin: -1px;overflow: hidden;padding: 0;position: absolute;width: 1px;}#sk-container-id-1 div.sk-estimator {font-family: monospace;background-color: #f0f8ff;border: 1px dotted black;border-radius: 0.25em;box-sizing: border-box;margin-bottom: 0.5em;}#sk-container-id-1 div.sk-estimator:hover {background-color: #d4ebff;}#sk-container-id-1 div.sk-parallel-item::after {content: \"\";width: 100%;border-bottom: 1px solid gray;flex-grow: 1;}#sk-container-id-1 div.sk-label:hover label.sk-toggleable__label {background-color: #d4ebff;}#sk-container-id-1 div.sk-serial::before {content: \"\";position: absolute;border-left: 1px solid gray;box-sizing: border-box;top: 0;bottom: 0;left: 50%;z-index: 0;}#sk-container-id-1 div.sk-serial {display: flex;flex-direction: column;align-items: center;background-color: white;padding-right: 0.2em;padding-left: 0.2em;position: relative;}#sk-container-id-1 div.sk-item {position: relative;z-index: 1;}#sk-container-id-1 div.sk-parallel {display: flex;align-items: stretch;justify-content: center;background-color: white;position: relative;}#sk-container-id-1 div.sk-item::before, #sk-container-id-1 div.sk-parallel-item::before {content: \"\";position: absolute;border-left: 1px solid gray;box-sizing: border-box;top: 0;bottom: 0;left: 50%;z-index: -1;}#sk-container-id-1 div.sk-parallel-item {display: flex;flex-direction: column;z-index: 1;position: relative;background-color: white;}#sk-container-id-1 div.sk-parallel-item:first-child::after {align-self: flex-end;width: 50%;}#sk-container-id-1 div.sk-parallel-item:last-child::after {align-self: flex-start;width: 50%;}#sk-container-id-1 div.sk-parallel-item:only-child::after {width: 0;}#sk-container-id-1 div.sk-dashed-wrapped {border: 1px dashed gray;margin: 0 0.4em 0.5em 0.4em;box-sizing: border-box;padding-bottom: 0.4em;background-color: white;}#sk-container-id-1 div.sk-label label {font-family: monospace;font-weight: bold;display: inline-block;line-height: 1.2em;}#sk-container-id-1 div.sk-label-container {text-align: center;}#sk-container-id-1 div.sk-container {/* jupyter's `normalize.less` sets `[hidden] { display: none; }` but bootstrap.min.css set `[hidden] { display: none !important; }` so we also need the `!important` here to be able to override the default hidden behavior on the sphinx rendered scikit-learn.org. See: https://github.com/scikit-learn/scikit-learn/issues/21755 */display: inline-block !important;position: relative;}#sk-container-id-1 div.sk-text-repr-fallback {display: none;}</style><div id=\"sk-container-id-1\" class=\"sk-top-container\"><div class=\"sk-text-repr-fallback\"><pre>LinearRegression()</pre><b>In a Jupyter environment, please rerun this cell to show the HTML representation or trust the notebook. <br />On GitHub, the HTML representation is unable to render, please try loading this page with nbviewer.org.</b></div><div class=\"sk-container\" hidden><div class=\"sk-item\"><div class=\"sk-estimator sk-toggleable\"><input class=\"sk-toggleable__control sk-hidden--visually\" id=\"sk-estimator-id-1\" type=\"checkbox\" checked><label for=\"sk-estimator-id-1\" class=\"sk-toggleable__label sk-toggleable__label-arrow\">LinearRegression</label><div class=\"sk-toggleable__content\"><pre>LinearRegression()</pre></div></div></div></div></div>"
      ],
      "text/plain": [
       "LinearRegression()"
      ]
     },
     "execution_count": 6,
     "metadata": {},
     "output_type": "execute_result"
    }
   ],
   "source": [
    "regressor = LinearRegression()\n",
    "regressor.fit(X_train, y_train)"
   ]
  },
  {
   "cell_type": "markdown",
   "metadata": {
    "id": "uSKINJXcc4Z0"
   },
   "source": [
    "Make predictions and Compare"
   ]
  },
  {
   "cell_type": "code",
   "execution_count": 7,
   "metadata": {
    "colab": {
     "base_uri": "https://localhost:8080/"
    },
    "executionInfo": {
     "elapsed": 37,
     "status": "ok",
     "timestamp": 1743774129286,
     "user": {
      "displayName": "김현준",
      "userId": "09843962746864973520"
     },
     "user_tz": -540
    },
    "id": "OtESm4zqc7nE",
    "outputId": "5fb560d1-3903-4ff2-fee4-4cfa85b7b339"
   },
   "outputs": [
    {
     "name": "stdout",
     "output_type": "stream",
     "text": [
      "[[146.19 146.41]\n",
      " [123.61 125.01]\n",
      " [ 67.61  69.25]\n",
      " [144.23 143.86]\n",
      " [141.39 142.31]\n",
      " [161.81 162.49]\n",
      " [146.23 146.68]\n",
      " [130.9  131.96]\n",
      " [192.44 192.27]\n",
      " [163.09 162.12]\n",
      " [124.43 124.35]\n",
      " [124.23 125.12]\n",
      " [147.7  149.02]\n",
      " [148.04 148.68]\n",
      " [155.87 155.16]\n",
      " [ 77.9   77.73]\n",
      " [181.68 181.58]\n",
      " [150.48 150.79]\n",
      " [127.43 127.59]\n",
      " [143.66 143.8 ]\n",
      " [141.   140.89]\n",
      " [124.97 125.07]\n",
      " [ 58.85  58.59]\n",
      " [168.   170.02]\n",
      " [ 61.86  58.78]\n",
      " [171.51 171.77]\n",
      " [143.49 143.14]\n",
      " [192.08 191.9 ]\n",
      " [150.53 151.07]\n",
      " [178.29 176.88]\n",
      " [126.68 127.04]\n",
      " [115.04 115.33]\n",
      " [ 86.6   86.05]\n",
      " [175.03 174.94]\n",
      " [130.88 130.83]\n",
      " [ 77.67  77.68]\n",
      " [ 68.13  67.21]\n",
      " [150.43 150.82]\n",
      " [120.04 118.36]\n",
      " [132.35 131.74]\n",
      " [160.99 162.12]\n",
      " [169.29 170.03]\n",
      " [176.32 176.3 ]\n",
      " [163.68 163.56]\n",
      " [164.65 163.37]\n",
      " [ 91.21  90.97]\n",
      " [181.24 181.56]\n",
      " [120.61 118.62]\n",
      " [144.47 144.02]\n",
      " [190.76 190.29]\n",
      " [175.36 175.86]\n",
      " [190.99 190.17]\n",
      " [134.85 135.84]\n",
      " [173.1  173.22]\n",
      " [145.09 145.5 ]\n",
      " [170.37 171.77]\n",
      " [141.79 142.14]\n",
      " [172.21 172.49]\n",
      " [132.12 131.91]\n",
      " [ 85.55  85.59]\n",
      " [173.54 174.56]\n",
      " [158.68 157.52]\n",
      " [125.2  125.81]\n",
      " [ 88.83  90.15]\n",
      " [153.93 154.52]\n",
      " [154.   154.27]\n",
      " [130.27 130.78]\n",
      " [146.29 146.48]\n",
      " [124.69 123.26]\n",
      " [118.69 118.46]\n",
      " [150.23 150.09]\n",
      " [143.4  144.09]\n",
      " [147.16 147.99]\n",
      " [150.5  150.17]\n",
      " [144.18 144.4 ]\n",
      " [137.22 137.9 ]\n",
      " [140.13 141.03]\n",
      " [130.67 131.29]\n",
      " [144.74 143.85]\n",
      " [116.42 115.29]\n",
      " [164.36 162.48]\n",
      " [163.77 162.65]\n",
      " [131.92 132.42]\n",
      " [146.98 147.42]\n",
      " [171.71 171.84]\n",
      " [147.55 146.83]\n",
      " [ 70.59  71.14]\n",
      " [112.16 112.11]\n",
      " [143.15 141.51]\n",
      " [152.62 152.5 ]\n",
      " [145.12 146.33]\n",
      " [176.47 177.67]\n",
      " [171.93 171.86]\n",
      " [174.3  175.36]\n",
      " [145.8  145.33]\n",
      " [175.73 175.1 ]\n",
      " [117.56 117.37]\n",
      " [151.24 150.73]\n",
      " [142.65 145.18]\n",
      " [154.17 152.18]\n",
      " [173.4  176.22]\n",
      " [127.4  128.44]\n",
      " [ 68.63  68.72]\n",
      " [173.62 173.65]\n",
      " [140.43 141.86]\n",
      " [150.22 151.03]\n",
      " [131.91 129.97]\n",
      " [170.61 169.86]\n",
      " [166.73 166.83]\n",
      " [152.19 152.31]\n",
      " [152.63 155.44]\n",
      " [192.39 192.44]\n",
      " [133.4  134.74]\n",
      " [126.43 123.66]\n",
      " [120.69 121.27]\n",
      " [148.39 148.67]\n",
      " [144.79 144.91]\n",
      " [177.56 177.77]\n",
      " [176.44 175.29]\n",
      " [139.72 141.11]\n",
      " [120.43 120.32]\n",
      " [114.42 115.93]\n",
      " [ 77.69  77.56]\n",
      " [166.91 166.19]\n",
      " [192.17 193.55]\n",
      " [ 88.28  87.62]\n",
      " [176.6  176.21]\n",
      " [134.46 133.39]\n",
      " [139.29 139.61]\n",
      " [131.66 132.19]\n",
      " [136.05 133.91]\n",
      " [129.82 131.03]\n",
      " [142.35 143.76]\n",
      " [142.91 142.93]\n",
      " [ 68.04  68.63]\n",
      " [ 60.2   59.4 ]\n",
      " [172.3  172.4 ]\n",
      " [ 64.85  67.46]\n",
      " [142.18 142.19]\n",
      " [132.6  133.21]\n",
      " [133.15 133.52]\n",
      " [162.95 163.9 ]\n",
      " [130.63 130.85]\n",
      " [182.   181.73]\n",
      " [159.73 160.94]\n",
      " [156.18 156.94]\n",
      " [126.06 126.92]\n",
      " [188.99 189.5 ]\n",
      " [184.22 183.42]\n",
      " [170.32 169.38]\n",
      " [131.76 131.57]\n",
      " [190.9  192.03]\n",
      " [170.43 172.07]\n",
      " [148.39 149.09]\n",
      " [141.83 142.66]\n",
      " [147.24 147.02]\n",
      " [122.81 123.37]\n",
      " [117.25 117.51]\n",
      " [146.21 147.98]\n",
      " [170.36 170.76]\n",
      " [158.75 160.35]\n",
      " [149.63 149.4 ]\n",
      " [143.54 143.34]\n",
      " [120.63 121.72]\n",
      " [168.16 169.53]\n",
      " [156.65 157.79]\n",
      " [131.12 131.01]\n",
      " [195.46 195.76]\n",
      " [131.74 131.4 ]\n",
      " [145.37 145.36]\n",
      " [146.54 147.08]\n",
      " [180.31 180.5 ]\n",
      " [133.13 133.59]\n",
      " [185.15 185.07]\n",
      " [196.54 196.93]\n",
      " [152.69 152.87]\n",
      " [ 78.2   78.73]\n",
      " [125.   124.55]\n",
      " [125.38 124.91]\n",
      " [149.63 149.33]\n",
      " [145.94 146.15]\n",
      " [173.08 172.26]\n",
      " [125.7  128.13]\n",
      " [146.71 147.49]\n",
      " [158.46 159.06]\n",
      " [140.03 140.36]\n",
      " [137.83 139.99]\n",
      " [179.74 179.4 ]\n",
      " [127.83 127.99]\n",
      " [119.15 119.41]\n",
      " [157.69 158.65]\n",
      " [170.11 171.61]\n",
      " [187.4  188.08]\n",
      " [ 95.18  92.93]\n",
      " [130.42 129.65]\n",
      " [ 59.2   59.91]\n",
      " [162.88 161.47]\n",
      " [189.93 189.52]]\n"
     ]
    }
   ],
   "source": [
    "y_pred = regressor.predict(X_test)\n",
    "np.set_printoptions(precision = 2)\n",
    "print(np.concatenate((y_pred.reshape(len(y_pred), 1), y_test.reshape(len(y_test), 1)), 1))"
   ]
  },
  {
   "cell_type": "code",
   "execution_count": null,
   "metadata": {},
   "outputs": [],
   "source": []
  },
  {
   "cell_type": "code",
   "execution_count": null,
   "metadata": {},
   "outputs": [],
   "source": []
  },
  {
   "cell_type": "code",
   "execution_count": null,
   "metadata": {},
   "outputs": [],
   "source": []
  }
 ],
 "metadata": {
  "colab": {
   "authorship_tag": "ABX9TyP/aBBtHc6E9gjm3bt9beOp",
   "provenance": []
  },
  "kernelspec": {
   "display_name": "Python 3 (ipykernel)",
   "language": "python",
   "name": "python3"
  },
  "language_info": {
   "codemirror_mode": {
    "name": "ipython",
    "version": 3
   },
   "file_extension": ".py",
   "mimetype": "text/x-python",
   "name": "python",
   "nbconvert_exporter": "python",
   "pygments_lexer": "ipython3",
   "version": "3.10.9"
  }
 },
 "nbformat": 4,
 "nbformat_minor": 1
}
